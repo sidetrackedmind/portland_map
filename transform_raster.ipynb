{
    "cells": [
        {
            "cell_type": "code",
            "execution_count": 12,
            "metadata": {},
            "outputs": [],
            "source": [
                "import pandas as pd\n",
                "import folium\n",
                "import geopandas as gpd\n",
                "from shapely.geometry import Polygon\n",
                "import rasterio\n",
                "import numpy as np\n",
                "from rasterio.warp import calculate_default_transform, reproject, Resampling"
            ]
        },
        {
            "cell_type": "markdown",
            "metadata": {},
            "source": [
                "## Import raster file representing xxx"
            ]
        },
        {
            "cell_type": "code",
            "execution_count": 10,
            "metadata": {},
            "outputs": [],
            "source": [
                "src = rasterio.open('processed_data/statewidehabitatmap.tiff')"
            ]
        },
        {
            "cell_type": "code",
            "execution_count": 11,
            "metadata": {},
            "outputs": [
                {
                    "data": {
                        "text/plain": [
                            "CRS.from_wkt('PROJCS[\"NAD_1983_Lambert_Conformal_Conic\",GEOGCS[\"NAD83\",DATUM[\"North_American_Datum_1983\",SPHEROID[\"GRS 1980\",6378137,298.257222101004,AUTHORITY[\"EPSG\",\"7019\"]],AUTHORITY[\"EPSG\",\"6269\"]],PRIMEM[\"Greenwich\",0],UNIT[\"degree\",0.0174532925199433,AUTHORITY[\"EPSG\",\"9122\"]],AUTHORITY[\"EPSG\",\"4269\"]],PROJECTION[\"Lambert_Conformal_Conic_2SP\"],PARAMETER[\"latitude_of_origin\",41.75],PARAMETER[\"central_meridian\",-120.5],PARAMETER[\"standard_parallel_1\",43],PARAMETER[\"standard_parallel_2\",45.5],PARAMETER[\"false_easting\",1312335.95800525],PARAMETER[\"false_northing\",0],UNIT[\"foot\",0.3048,AUTHORITY[\"EPSG\",\"9002\"]],AXIS[\"Easting\",EAST],AXIS[\"Northing\",NORTH]]')"
                        ]
                    },
                    "execution_count": 11,
                    "metadata": {},
                    "output_type": "execute_result"
                }
            ],
            "source": [
                "src.crs"
            ]
        },
        {
            "cell_type": "code",
            "execution_count": 13,
            "metadata": {},
            "outputs": [],
            "source": [
                "#from rasterio docs - https://rasterio.readthedocs.io/en/latest/topics/reproject.html\n",
                "\n",
                "dst_crs = 'EPSG:4326'\n",
                "\n",
                "with rasterio.open('processed_data/statewidehabitatmap.tiff') as src:\n",
                "    transform, width, height = calculate_default_transform(\n",
                "        src.crs, dst_crs, src.width, src.height, *src.bounds)\n",
                "    kwargs = src.meta.copy()\n",
                "    kwargs.update({\n",
                "        'crs': dst_crs,\n",
                "        'transform': transform,\n",
                "        'width': width,\n",
                "        'height': height\n",
                "    })\n",
                "\n",
                "    with rasterio.open('processed_data/statewidehabitatmap.wgs84.tif', 'w', **kwargs) as dst:\n",
                "        for i in range(1, src.count + 1):\n",
                "            reproject(\n",
                "                source=rasterio.band(src, i),\n",
                "                destination=rasterio.band(dst, i),\n",
                "                src_transform=src.transform,\n",
                "                src_crs=src.crs,\n",
                "                dst_transform=transform,\n",
                "                dst_crs=dst_crs,\n",
                "                resampling=Resampling.nearest)"
            ]
        },
        {
            "cell_type": "code",
            "execution_count": 15,
            "metadata": {},
            "outputs": [],
            "source": [
                "src = rasterio.open('processed_data/statewidehabitatmap.wgs84.tif')"
            ]
        },
        {
            "cell_type": "code",
            "execution_count": 16,
            "metadata": {},
            "outputs": [
                {
                    "data": {
                        "text/plain": [
                            "CRS.from_epsg(4326)"
                        ]
                    },
                    "execution_count": 16,
                    "metadata": {},
                    "output_type": "execute_result"
                }
            ],
            "source": [
                "src.crs"
            ]
        },
        {
            "cell_type": "code",
            "execution_count": 17,
            "metadata": {},
            "outputs": [
                {
                    "data": {
                        "text/plain": [
                            "1"
                        ]
                    },
                    "execution_count": 17,
                    "metadata": {},
                    "output_type": "execute_result"
                }
            ],
            "source": [
                "src.count"
            ]
        },
        {
            "cell_type": "code",
            "execution_count": 18,
            "metadata": {},
            "outputs": [],
            "source": [
                "raster_arr = src.read(1)"
            ]
        },
        {
            "cell_type": "code",
            "execution_count": 19,
            "metadata": {},
            "outputs": [
                {
                    "data": {
                        "text/plain": [
                            "(13020, 25871)"
                        ]
                    },
                    "execution_count": 19,
                    "metadata": {},
                    "output_type": "execute_result"
                }
            ],
            "source": [
                "raster_arr.shape"
            ]
        },
        {
            "cell_type": "code",
            "execution_count": null,
            "metadata": {},
            "outputs": [],
            "source": []
        }
    ],
    "metadata": {
        "interpreter": {
            "hash": "949777d72b0d2535278d3dc13498b2535136f6dfe0678499012e853ee9abcab1"
        },
        "kernelspec": {
            "display_name": "Python 3.9.7 64-bit",
            "name": "python3"
        },
        "language_info": {
            "codemirror_mode": {
                "name": "ipython",
                "version": 3
            },
            "file_extension": ".py",
            "mimetype": "text/x-python",
            "name": "python",
            "nbconvert_exporter": "python",
            "pygments_lexer": "ipython3",
            "version": "3.9.4"
        },
        "orig_nbformat": 4
    },
    "nbformat": 4,
    "nbformat_minor": 2
}
