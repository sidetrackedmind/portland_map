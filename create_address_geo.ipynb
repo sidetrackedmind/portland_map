{
    "cells": [
        {
            "cell_type": "code",
            "execution_count": 1,
            "metadata": {},
            "outputs": [],
            "source": [
                "import pandas as pd\n",
                "import geopandas as gpd"
            ]
        },
        {
            "cell_type": "code",
            "execution_count": 2,
            "metadata": {},
            "outputs": [],
            "source": [
                "addresses = pd.read_csv(\"data/Active_Address_Points.csv\", dtype=str)"
            ]
        },
        {
            "cell_type": "code",
            "execution_count": 3,
            "metadata": {},
            "outputs": [
                {
                    "data": {
                        "text/html": [
                            "<div>\n",
                            "<style scoped>\n",
                            "    .dataframe tbody tr th:only-of-type {\n",
                            "        vertical-align: middle;\n",
                            "    }\n",
                            "\n",
                            "    .dataframe tbody tr th {\n",
                            "        vertical-align: top;\n",
                            "    }\n",
                            "\n",
                            "    .dataframe thead th {\n",
                            "        text-align: right;\n",
                            "    }\n",
                            "</style>\n",
                            "<table border=\"1\" class=\"dataframe\">\n",
                            "  <thead>\n",
                            "    <tr style=\"text-align: right;\">\n",
                            "      <th></th>\n",
                            "      <th>OBJECTID</th>\n",
                            "      <th>ADDRESS_ID</th>\n",
                            "      <th>ADDRESS_NUMBER</th>\n",
                            "      <th>ADDRESS_NUMBER_CHAR</th>\n",
                            "      <th>ADDRESS_NUMBER_CHAR2</th>\n",
                            "      <th>LEADING_ZERO</th>\n",
                            "      <th>STREET_PREFIX_DIRECTION</th>\n",
                            "      <th>STREET_NAME</th>\n",
                            "      <th>STREET_TYPE_CODE</th>\n",
                            "      <th>STREET_POST_DIRECTION</th>\n",
                            "      <th>...</th>\n",
                            "      <th>IS_SPLIT_MERGE</th>\n",
                            "      <th>DATA_SOURCE</th>\n",
                            "      <th>X</th>\n",
                            "      <th>Y</th>\n",
                            "      <th>COMMENTS</th>\n",
                            "      <th>ADDRESS_SCORE</th>\n",
                            "      <th>MAILING_VALIDITY</th>\n",
                            "      <th>MAILING_VALIDITY_DESC</th>\n",
                            "      <th>E911_ADDRESS</th>\n",
                            "      <th>BDS_LEGAL_ADDRESS</th>\n",
                            "    </tr>\n",
                            "  </thead>\n",
                            "  <tbody>\n",
                            "    <tr>\n",
                            "      <th>0</th>\n",
                            "      <td>1</td>\n",
                            "      <td>33</td>\n",
                            "      <td>8535</td>\n",
                            "      <td>8535</td>\n",
                            "      <td>NaN</td>\n",
                            "      <td>NaN</td>\n",
                            "      <td>N</td>\n",
                            "      <td>EDISON</td>\n",
                            "      <td>ST</td>\n",
                            "      <td></td>\n",
                            "      <td>...</td>\n",
                            "      <td>NaN</td>\n",
                            "      <td>MULT</td>\n",
                            "      <td>7624480.229</td>\n",
                            "      <td>708206.237</td>\n",
                            "      <td>NaN</td>\n",
                            "      <td>-1</td>\n",
                            "      <td>Missing unit detail</td>\n",
                            "      <td>Confirmed - Missing Secondary Info; the addres...</td>\n",
                            "      <td>0</td>\n",
                            "      <td>1</td>\n",
                            "    </tr>\n",
                            "    <tr>\n",
                            "      <th>1</th>\n",
                            "      <td>2</td>\n",
                            "      <td>38</td>\n",
                            "      <td>6908</td>\n",
                            "      <td>6908</td>\n",
                            "      <td>NaN</td>\n",
                            "      <td>NaN</td>\n",
                            "      <td>N</td>\n",
                            "      <td>LEAVITT</td>\n",
                            "      <td>AVE</td>\n",
                            "      <td></td>\n",
                            "      <td>...</td>\n",
                            "      <td>NaN</td>\n",
                            "      <td>MULT</td>\n",
                            "      <td>7624713.616</td>\n",
                            "      <td>708091.644</td>\n",
                            "      <td>NaN</td>\n",
                            "      <td>-1</td>\n",
                            "      <td>Confirmed Deliverable</td>\n",
                            "      <td>Confirmed; entire address was confirmed delive...</td>\n",
                            "      <td>0</td>\n",
                            "      <td>1</td>\n",
                            "    </tr>\n",
                            "    <tr>\n",
                            "      <th>2</th>\n",
                            "      <td>3</td>\n",
                            "      <td>57</td>\n",
                            "      <td>6923</td>\n",
                            "      <td>6923</td>\n",
                            "      <td>NaN</td>\n",
                            "      <td>NaN</td>\n",
                            "      <td>N</td>\n",
                            "      <td>JOHN</td>\n",
                            "      <td>AVE</td>\n",
                            "      <td></td>\n",
                            "      <td>...</td>\n",
                            "      <td>NaN</td>\n",
                            "      <td>MULT</td>\n",
                            "      <td>7624892.33</td>\n",
                            "      <td>708115.126</td>\n",
                            "      <td>NaN</td>\n",
                            "      <td>-1</td>\n",
                            "      <td>Confirmed Deliverable</td>\n",
                            "      <td>Confirmed; entire address was confirmed delive...</td>\n",
                            "      <td>0</td>\n",
                            "      <td>1</td>\n",
                            "    </tr>\n",
                            "  </tbody>\n",
                            "</table>\n",
                            "<p>3 rows × 50 columns</p>\n",
                            "</div>"
                        ],
                        "text/plain": [
                            "  OBJECTID ADDRESS_ID ADDRESS_NUMBER ADDRESS_NUMBER_CHAR ADDRESS_NUMBER_CHAR2  \\\n",
                            "0        1         33           8535                8535                  NaN   \n",
                            "1        2         38           6908                6908                  NaN   \n",
                            "2        3         57           6923                6923                  NaN   \n",
                            "\n",
                            "  LEADING_ZERO STREET_PREFIX_DIRECTION STREET_NAME STREET_TYPE_CODE  \\\n",
                            "0          NaN                       N      EDISON               ST   \n",
                            "1          NaN                       N     LEAVITT              AVE   \n",
                            "2          NaN                       N        JOHN              AVE   \n",
                            "\n",
                            "  STREET_POST_DIRECTION  ... IS_SPLIT_MERGE DATA_SOURCE            X  \\\n",
                            "0                        ...            NaN        MULT  7624480.229   \n",
                            "1                        ...            NaN        MULT  7624713.616   \n",
                            "2                        ...            NaN        MULT   7624892.33   \n",
                            "\n",
                            "            Y COMMENTS ADDRESS_SCORE       MAILING_VALIDITY  \\\n",
                            "0  708206.237      NaN            -1    Missing unit detail   \n",
                            "1  708091.644      NaN            -1  Confirmed Deliverable   \n",
                            "2  708115.126      NaN            -1  Confirmed Deliverable   \n",
                            "\n",
                            "                               MAILING_VALIDITY_DESC E911_ADDRESS  \\\n",
                            "0  Confirmed - Missing Secondary Info; the addres...            0   \n",
                            "1  Confirmed; entire address was confirmed delive...            0   \n",
                            "2  Confirmed; entire address was confirmed delive...            0   \n",
                            "\n",
                            "  BDS_LEGAL_ADDRESS  \n",
                            "0                 1  \n",
                            "1                 1  \n",
                            "2                 1  \n",
                            "\n",
                            "[3 rows x 50 columns]"
                        ]
                    },
                    "execution_count": 3,
                    "metadata": {},
                    "output_type": "execute_result"
                }
            ],
            "source": [
                "addresses.head(3)"
            ]
        },
        {
            "cell_type": "code",
            "execution_count": 5,
            "metadata": {},
            "outputs": [],
            "source": [
                "res_addresses = addresses[addresses['ADDRESS_TYPE']=='Residential'].copy()"
            ]
        },
        {
            "cell_type": "code",
            "execution_count": 6,
            "metadata": {},
            "outputs": [],
            "source": [
                "geometry = gpd.points_from_xy(res_addresses.X, res_addresses.Y, crs=2269)"
            ]
        },
        {
            "cell_type": "code",
            "execution_count": 8,
            "metadata": {},
            "outputs": [],
            "source": [
                "res_addresses.columns = [col.lower() for col in res_addresses.columns]"
            ]
        },
        {
            "cell_type": "code",
            "execution_count": 9,
            "metadata": {},
            "outputs": [],
            "source": [
                "addresses_geo = gpd.GeoDataFrame(res_addresses, crs=2269, geometry=geometry)"
            ]
        },
        {
            "cell_type": "code",
            "execution_count": 10,
            "metadata": {},
            "outputs": [],
            "source": [
                "addresses_geo_reproject = addresses_geo.to_crs(crs=4326, inplace=False)"
            ]
        },
        {
            "cell_type": "code",
            "execution_count": 11,
            "metadata": {},
            "outputs": [],
            "source": [
                "addresses_geo_reproject.to_file(\"processed_data/addresses.gpkg\", driver=\"GPKG\")"
            ]
        },
        {
            "cell_type": "code",
            "execution_count": null,
            "metadata": {},
            "outputs": [],
            "source": []
        }
    ],
    "metadata": {
        "interpreter": {
            "hash": "949777d72b0d2535278d3dc13498b2535136f6dfe0678499012e853ee9abcab1"
        },
        "kernelspec": {
            "display_name": "Python 3.9.7 64-bit",
            "name": "python3"
        },
        "language_info": {
            "codemirror_mode": {
                "name": "ipython",
                "version": 3
            },
            "file_extension": ".py",
            "mimetype": "text/x-python",
            "name": "python",
            "nbconvert_exporter": "python",
            "pygments_lexer": "ipython3",
            "version": "3.9.4"
        },
        "orig_nbformat": 4
    },
    "nbformat": 4,
    "nbformat_minor": 2
}
