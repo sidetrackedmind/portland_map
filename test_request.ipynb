{
    "cells": [
        {
            "cell_type": "code",
            "execution_count": 13,
            "source": [
                "import requests\n",
                "import json\n",
                "import logging\n",
                "import pandas as pd"
            ],
            "outputs": [],
            "metadata": {}
        },
        {
            "cell_type": "code",
            "execution_count": 3,
            "source": [
                "def single_request(url, params):\n",
                "    r = requests.get(url,params=params)\n",
                "    try:\n",
                "        if r.status_code == 200:\n",
                "            return r.content\n",
                "    except:\n",
                "        logging.error('status code {}'.format(r.status_code))"
            ],
            "outputs": [],
            "metadata": {}
        },
        {
            "cell_type": "code",
            "execution_count": 2,
            "source": [
                "property_id = 'R102214'\n",
                "api_key = '50DFEC75EFE84D59AC2F63FB66966D47'\n",
                "url = 'https://www.portlandmaps.com/api/detail/'\n",
                "params = {'detail_type':'assessor','sections':'*','detail_id':property_id\n",
                "            ,'format':'json','api_key':api_key}"
            ],
            "outputs": [],
            "metadata": {}
        },
        {
            "cell_type": "code",
            "execution_count": 3,
            "source": [
                "r = requests.get(url,params=params)"
            ],
            "outputs": [],
            "metadata": {}
        },
        {
            "cell_type": "code",
            "execution_count": 19,
            "source": [
                "building_info_json = json.loads(r.content)['general']"
            ],
            "outputs": [],
            "metadata": {}
        },
        {
            "cell_type": "code",
            "execution_count": 20,
            "source": [
                "sales_info_json = json.loads(r.content)['sales history & deed']"
            ],
            "outputs": [],
            "metadata": {}
        },
        {
            "cell_type": "code",
            "execution_count": 21,
            "source": [
                "building_info_df = pd.DataFrame([building_info_json])\n",
                "building_info_df"
            ],
            "outputs": [
                {
                    "output_type": "execute_result",
                    "data": {
                        "text/plain": [
                            "             address            address2      city property_id  \\\n",
                            "0  223 NE RUSSELL ST  PORTLAND, OR 97212  PORTLAND     R102214   \n",
                            "\n",
                            "                                            tax_roll             use    lot  \\\n",
                            "0  ALBINA, BLOCK 17, WLY 1/2 OF LOT 19 EXC PT IN ...  OFFICE GENERAL  19,20   \n",
                            "\n",
                            "   block county         state_id  ...        x       y account_status_code  \\\n",
                            "0     17      M  1N1E27AD  17300  ...  7648012  690827                   A   \n",
                            "\n",
                            "                             land_type            total_land_area  \\\n",
                            "0  CVCL - CONVERTED COMMERCIAL SEGMENT  0.25 acres (10,875 sq ft)   \n",
                            "\n",
                            "   total_land_area_acres  total_land_area_sqft  building_area  \\\n",
                            "0               0.249656               10875.0    5,750 sq ft   \n",
                            "\n",
                            "  building_area_sqft assessor_update_date  \n",
                            "0               5750    11/08/2021 4:17AM  \n",
                            "\n",
                            "[1 rows x 26 columns]"
                        ],
                        "text/html": [
                            "<div>\n",
                            "<style scoped>\n",
                            "    .dataframe tbody tr th:only-of-type {\n",
                            "        vertical-align: middle;\n",
                            "    }\n",
                            "\n",
                            "    .dataframe tbody tr th {\n",
                            "        vertical-align: top;\n",
                            "    }\n",
                            "\n",
                            "    .dataframe thead th {\n",
                            "        text-align: right;\n",
                            "    }\n",
                            "</style>\n",
                            "<table border=\"1\" class=\"dataframe\">\n",
                            "  <thead>\n",
                            "    <tr style=\"text-align: right;\">\n",
                            "      <th></th>\n",
                            "      <th>address</th>\n",
                            "      <th>address2</th>\n",
                            "      <th>city</th>\n",
                            "      <th>property_id</th>\n",
                            "      <th>tax_roll</th>\n",
                            "      <th>use</th>\n",
                            "      <th>lot</th>\n",
                            "      <th>block</th>\n",
                            "      <th>county</th>\n",
                            "      <th>state_id</th>\n",
                            "      <th>...</th>\n",
                            "      <th>x</th>\n",
                            "      <th>y</th>\n",
                            "      <th>account_status_code</th>\n",
                            "      <th>land_type</th>\n",
                            "      <th>total_land_area</th>\n",
                            "      <th>total_land_area_acres</th>\n",
                            "      <th>total_land_area_sqft</th>\n",
                            "      <th>building_area</th>\n",
                            "      <th>building_area_sqft</th>\n",
                            "      <th>assessor_update_date</th>\n",
                            "    </tr>\n",
                            "  </thead>\n",
                            "  <tbody>\n",
                            "    <tr>\n",
                            "      <th>0</th>\n",
                            "      <td>223 NE RUSSELL ST</td>\n",
                            "      <td>PORTLAND, OR 97212</td>\n",
                            "      <td>PORTLAND</td>\n",
                            "      <td>R102214</td>\n",
                            "      <td>ALBINA, BLOCK 17, WLY 1/2 OF LOT 19 EXC PT IN ...</td>\n",
                            "      <td>OFFICE GENERAL</td>\n",
                            "      <td>19,20</td>\n",
                            "      <td>17</td>\n",
                            "      <td>M</td>\n",
                            "      <td>1N1E27AD  17300</td>\n",
                            "      <td>...</td>\n",
                            "      <td>7648012</td>\n",
                            "      <td>690827</td>\n",
                            "      <td>A</td>\n",
                            "      <td>CVCL - CONVERTED COMMERCIAL SEGMENT</td>\n",
                            "      <td>0.25 acres (10,875 sq ft)</td>\n",
                            "      <td>0.249656</td>\n",
                            "      <td>10875.0</td>\n",
                            "      <td>5,750 sq ft</td>\n",
                            "      <td>5750</td>\n",
                            "      <td>11/08/2021 4:17AM</td>\n",
                            "    </tr>\n",
                            "  </tbody>\n",
                            "</table>\n",
                            "<p>1 rows × 26 columns</p>\n",
                            "</div>"
                        ]
                    },
                    "metadata": {},
                    "execution_count": 21
                }
            ],
            "metadata": {}
        },
        {
            "cell_type": "code",
            "execution_count": 25,
            "source": [
                "building_info_df.columns"
            ],
            "outputs": [
                {
                    "output_type": "execute_result",
                    "data": {
                        "text/plain": [
                            "Index(['address', 'address2', 'city', 'property_id', 'tax_roll', 'use', 'lot',\n",
                            "       'block', 'county', 'state_id', 'new_state_id', 'parent_state_id',\n",
                            "       'alt_account_number', 'map_number', 'is_condo', 'tax_code', 'x', 'y',\n",
                            "       'account_status_code', 'land_type', 'total_land_area',\n",
                            "       'total_land_area_acres', 'total_land_area_sqft', 'building_area',\n",
                            "       'building_area_sqft', 'assessor_update_date'],\n",
                            "      dtype='object')"
                        ]
                    },
                    "metadata": {},
                    "execution_count": 25
                }
            ],
            "metadata": {}
        },
        {
            "cell_type": "code",
            "execution_count": 28,
            "source": [
                "select_building_info = building_info_df[['property_id', 'use', \n",
                "        'is_condo','land_type', 'total_land_area',\n",
                "       'total_land_area_acres', 'total_land_area_sqft', 'building_area',\n",
                "       'building_area_sqft', 'assessor_update_date']].copy()"
            ],
            "outputs": [],
            "metadata": {}
        },
        {
            "cell_type": "code",
            "execution_count": 37,
            "source": [
                "sales_info_df = pd.DataFrame([sale for sale in sales_info_json]).dropna(subset=['sale_date'])\n",
                "sales_info_df.loc[:,'property_id'] = select_building_info['property_id'].to_numpy()[0]\n",
                "sales_info_df"
            ],
            "outputs": [
                {
                    "output_type": "execute_result",
                    "data": {
                        "text/plain": [
                            "                 sale_date              type  instrument   sale_price  \\\n",
                            "0  March, 25 2005 00:00:00  WD WARRANTY DEED  2005053979  $375,000.00   \n",
                            "\n",
                            "  property_id  \n",
                            "0     R102214  "
                        ],
                        "text/html": [
                            "<div>\n",
                            "<style scoped>\n",
                            "    .dataframe tbody tr th:only-of-type {\n",
                            "        vertical-align: middle;\n",
                            "    }\n",
                            "\n",
                            "    .dataframe tbody tr th {\n",
                            "        vertical-align: top;\n",
                            "    }\n",
                            "\n",
                            "    .dataframe thead th {\n",
                            "        text-align: right;\n",
                            "    }\n",
                            "</style>\n",
                            "<table border=\"1\" class=\"dataframe\">\n",
                            "  <thead>\n",
                            "    <tr style=\"text-align: right;\">\n",
                            "      <th></th>\n",
                            "      <th>sale_date</th>\n",
                            "      <th>type</th>\n",
                            "      <th>instrument</th>\n",
                            "      <th>sale_price</th>\n",
                            "      <th>property_id</th>\n",
                            "    </tr>\n",
                            "  </thead>\n",
                            "  <tbody>\n",
                            "    <tr>\n",
                            "      <th>0</th>\n",
                            "      <td>March, 25 2005 00:00:00</td>\n",
                            "      <td>WD WARRANTY DEED</td>\n",
                            "      <td>2005053979</td>\n",
                            "      <td>$375,000.00</td>\n",
                            "      <td>R102214</td>\n",
                            "    </tr>\n",
                            "  </tbody>\n",
                            "</table>\n",
                            "</div>"
                        ]
                    },
                    "metadata": {},
                    "execution_count": 37
                }
            ],
            "metadata": {}
        }
    ],
    "metadata": {
        "orig_nbformat": 4,
        "language_info": {
            "name": "python",
            "version": "3.9.7",
            "mimetype": "text/x-python",
            "codemirror_mode": {
                "name": "ipython",
                "version": 3
            },
            "pygments_lexer": "ipython3",
            "nbconvert_exporter": "python",
            "file_extension": ".py"
        },
        "kernelspec": {
            "name": "python3",
            "display_name": "Python 3.9.7 64-bit"
        },
        "interpreter": {
            "hash": "4cd7ab41f5fca4b9b44701077e38c5ffd31fe66a6cab21e0214b68d958d0e462"
        }
    },
    "nbformat": 4,
    "nbformat_minor": 2
}