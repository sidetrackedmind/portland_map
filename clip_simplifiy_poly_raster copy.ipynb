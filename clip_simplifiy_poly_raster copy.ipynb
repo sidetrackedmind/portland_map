{
    "cells": [
        {
            "cell_type": "markdown",
            "metadata": {},
            "source": [
                "# one option is multiprocessing and dealing with each value separately"
            ]
        },
        {
            "cell_type": "code",
            "execution_count": 1,
            "metadata": {},
            "outputs": [],
            "source": [
                "import pandas as pd\n",
                "import folium\n",
                "import geopandas as gpd\n",
                "from shapely.geometry import Polygon\n",
                "import rasterio\n",
                "import numpy as np\n",
                "from rasterio.warp import calculate_default_transform, reproject, Resampling\n",
                "import json\n",
                "from rasterio.features import shapes\n",
                "import multiprocessing\n",
                "from multiprocessing import get_context"
            ]
        },
        {
            "cell_type": "code",
            "execution_count": 12,
            "metadata": {},
            "outputs": [],
            "source": [
                "def test_multiprocess(habitat_number):\n",
                "    '''processed_data'''\n",
                "    with open(f\"testfile_{habitat_number}.txt\",\"w\") as f:\n",
                "        str_to_write = \"hello world\"\n",
                "        f.write(str_to_write)\n",
                "\n",
                "def create_one_habitat_raster_to_poly(habitat_number):\n",
                "    '''\n",
                "    '''\n",
                "    print(f\"working on habitat_number {habitat_number}\")\n",
                "    src = rasterio.open('processed_data/statewidehabitatmap.wgs84.tif')\n",
                "    raster_arr = src.read(1)\n",
                "    raster_arr_int = raster_arr.astype('int16')\n",
                "    \n",
                "    mask = raster_arr == habitat_number\n",
                "\n",
                "    habitat_shapes = shapes(raster_arr_int, mask=mask, transform=src.transform)\n",
                "    habitat_polygon_geo_list = [Polygon(geo[0]['coordinates'][0]) for geo in habitat_shapes]\n",
                "    habitat_arr = np.ones(len(habitat_polygon_geo_list))*habitat_number\n",
                "    habitat_gpd = gpd.GeoDataFrame(pd.DataFrame(data=habitat_arr, columns=['habitat_number'])\n",
                "                                    ,crs=4326\n",
                "                                    ,geometry=habitat_polygon_geo_list)\n",
                "    # all writing to the same geopackage and different layers did not work, wonder if it's unable to write while another has it open?\n",
                "    habitat_gpd.to_file(\"processed_data/statewidehabitat.gpkg\",driver='GPKG',layer=f'habitat_{habitat_number}')\n",
                "    # habitat_gpd.to_file(f\"processed_data/statewidehabitat_{habitat_number}.geojson\",driver='GeoJSON')\n",
                "    "
            ]
        },
        {
            "cell_type": "code",
            "execution_count": 3,
            "metadata": {},
            "outputs": [],
            "source": [
                "habitat_number_list = [habitat_number for habitat_number in range(1,78)]"
            ]
        },
        {
            "cell_type": "code",
            "execution_count": 13,
            "metadata": {},
            "outputs": [],
            "source": [
                "cpu_count = multiprocessing.cpu_count()\n",
                "pool = multiprocessing.Pool(processes=cpu_count)"
            ]
        },
        {
            "cell_type": "code",
            "execution_count": 11,
            "metadata": {},
            "outputs": [],
            "source": [
                "result = pool.map(create_one_habitat_raster_to_poly, habitat_number_list[12:14])"
            ]
        },
        {
            "cell_type": "markdown",
            "metadata": {},
            "source": [
                "# notes\n",
                "- think about ordering list baed on \"frequency of counts\"\n",
                "- make this a git repo\n",
                "- lower resolution solution"
            ]
        },
        {
            "cell_type": "code",
            "execution_count": null,
            "metadata": {},
            "outputs": [],
            "source": []
        },
        {
            "cell_type": "markdown",
            "metadata": {},
            "source": [
                "# test with one habitat"
            ]
        },
        {
            "cell_type": "code",
            "execution_count": 58,
            "metadata": {},
            "outputs": [],
            "source": [
                "#shapes for habitat 1 \n",
                "#based on docs --https://rasterio.readthedocs.io/en/latest/topics/features.html\n",
                "\n",
                "habitat_number = 1\n",
                "mask = raster_arr == habitat_number\n",
                "\n",
                "habitat_shapes = shapes(raster_arr_int, mask=mask, transform=src.transform)"
            ]
        },
        {
            "cell_type": "code",
            "execution_count": 59,
            "metadata": {},
            "outputs": [],
            "source": [
                "habitat_shapes_list = list(habitat_shapes)"
            ]
        },
        {
            "cell_type": "code",
            "execution_count": 60,
            "metadata": {},
            "outputs": [
                {
                    "data": {
                        "text/plain": [
                            "({'type': 'Polygon',\n",
                            "  'coordinates': [[(-121.85162227591015, 45.6886764869563),\n",
                            "    (-121.85162227591015, 45.68833291878586),\n",
                            "    (-121.85093513956929, 45.68833291878586),\n",
                            "    (-121.85093513956929, 45.6886764869563),\n",
                            "    (-121.85162227591015, 45.6886764869563)]]},\n",
                            " 1.0)"
                        ]
                    },
                    "execution_count": 60,
                    "metadata": {},
                    "output_type": "execute_result"
                }
            ],
            "source": [
                "habitat_shapes_list[0]"
            ]
        },
        {
            "cell_type": "code",
            "execution_count": 61,
            "metadata": {},
            "outputs": [
                {
                    "data": {
                        "text/plain": [
                            "[[[(-121.85162227591015, 45.6886764869563),\n",
                            "   (-121.85162227591015, 45.68833291878586),\n",
                            "   (-121.85093513956929, 45.68833291878586),\n",
                            "   (-121.85093513956929, 45.6886764869563),\n",
                            "   (-121.85162227591015, 45.6886764869563)]],\n",
                            " [[(-121.79458995961834, 45.666344555878176),\n",
                            "   (-121.79458995961834, 45.66600098770775),\n",
                            "   (-121.7942463914479, 45.66600098770775),\n",
                            "   (-121.7942463914479, 45.666344555878176),\n",
                            "   (-121.79458995961834, 45.666344555878176)]]]"
                        ]
                    },
                    "execution_count": 61,
                    "metadata": {},
                    "output_type": "execute_result"
                }
            ],
            "source": [
                "[geo[0]['coordinates'] for geo in habitat_shapes_list[:2]]"
            ]
        },
        {
            "cell_type": "code",
            "execution_count": 62,
            "metadata": {},
            "outputs": [],
            "source": [
                "habitat_polygon_geo_list = [Polygon(geo[0]['coordinates'][0]) for geo in habitat_shapes_list]"
            ]
        },
        {
            "cell_type": "code",
            "execution_count": 66,
            "metadata": {},
            "outputs": [],
            "source": [
                "habitat_arr = np.ones(len(habitat_polygon_geo_list))*habitat_number"
            ]
        },
        {
            "cell_type": "code",
            "execution_count": 70,
            "metadata": {},
            "outputs": [],
            "source": [
                "habitat_gpd = gpd.GeoDataFrame(pd.DataFrame(data=habitat_arr, columns=['habitat_number']),crs=4326,geometry=habitat_polygon_geo_list)"
            ]
        },
        {
            "cell_type": "code",
            "execution_count": 71,
            "metadata": {},
            "outputs": [],
            "source": [
                "habitat_gpd.to_file(\"processed_data/statewidehabitat.gpkg\",driver='GPKG',layer=f'habitat_{habitat_number}')"
            ]
        },
        {
            "cell_type": "code",
            "execution_count": 73,
            "metadata": {},
            "outputs": [
                {
                    "name": "stdout",
                    "output_type": "stream",
                    "text": [
                        "working on habitat_number 1\n",
                        "working on habitat_number 2\n",
                        "working on habitat_number 3\n"
                    ]
                },
                {
                    "ename": "KeyboardInterrupt",
                    "evalue": "",
                    "output_type": "error",
                    "traceback": [
                        "\u001b[0;31m---------------------------------------------------------------------------\u001b[0m",
                        "\u001b[0;31mKeyboardInterrupt\u001b[0m                         Traceback (most recent call last)",
                        "\u001b[0;32m<ipython-input-73-9968cc3ff601>\u001b[0m in \u001b[0;36m<module>\u001b[0;34m\u001b[0m\n\u001b[1;32m      8\u001b[0m \u001b[0;34m\u001b[0m\u001b[0m\n\u001b[1;32m      9\u001b[0m     \u001b[0mhabitat_shapes\u001b[0m \u001b[0;34m=\u001b[0m \u001b[0mshapes\u001b[0m\u001b[0;34m(\u001b[0m\u001b[0mraster_arr_int\u001b[0m\u001b[0;34m,\u001b[0m \u001b[0mmask\u001b[0m\u001b[0;34m=\u001b[0m\u001b[0mmask\u001b[0m\u001b[0;34m,\u001b[0m \u001b[0mtransform\u001b[0m\u001b[0;34m=\u001b[0m\u001b[0msrc\u001b[0m\u001b[0;34m.\u001b[0m\u001b[0mtransform\u001b[0m\u001b[0;34m)\u001b[0m\u001b[0;34m\u001b[0m\u001b[0;34m\u001b[0m\u001b[0m\n\u001b[0;32m---> 10\u001b[0;31m     \u001b[0mhabitat_polygon_geo_list\u001b[0m \u001b[0;34m=\u001b[0m \u001b[0;34m[\u001b[0m\u001b[0mPolygon\u001b[0m\u001b[0;34m(\u001b[0m\u001b[0mgeo\u001b[0m\u001b[0;34m[\u001b[0m\u001b[0;36m0\u001b[0m\u001b[0;34m]\u001b[0m\u001b[0;34m[\u001b[0m\u001b[0;34m'coordinates'\u001b[0m\u001b[0;34m]\u001b[0m\u001b[0;34m[\u001b[0m\u001b[0;36m0\u001b[0m\u001b[0;34m]\u001b[0m\u001b[0;34m)\u001b[0m \u001b[0;32mfor\u001b[0m \u001b[0mgeo\u001b[0m \u001b[0;32min\u001b[0m \u001b[0mhabitat_shapes\u001b[0m\u001b[0;34m]\u001b[0m\u001b[0;34m\u001b[0m\u001b[0;34m\u001b[0m\u001b[0m\n\u001b[0m\u001b[1;32m     11\u001b[0m     \u001b[0mhabitat_arr\u001b[0m \u001b[0;34m=\u001b[0m \u001b[0mnp\u001b[0m\u001b[0;34m.\u001b[0m\u001b[0mones\u001b[0m\u001b[0;34m(\u001b[0m\u001b[0mlen\u001b[0m\u001b[0;34m(\u001b[0m\u001b[0mhabitat_polygon_geo_list\u001b[0m\u001b[0;34m)\u001b[0m\u001b[0;34m)\u001b[0m\u001b[0;34m*\u001b[0m\u001b[0mhabitat_number\u001b[0m\u001b[0;34m\u001b[0m\u001b[0;34m\u001b[0m\u001b[0m\n\u001b[1;32m     12\u001b[0m     habitat_gpd = gpd.GeoDataFrame(pd.DataFrame(data=habitat_arr, columns=['habitat_number'])\n",
                        "\u001b[0;32m<ipython-input-73-9968cc3ff601>\u001b[0m in \u001b[0;36m<listcomp>\u001b[0;34m(.0)\u001b[0m\n\u001b[1;32m      8\u001b[0m \u001b[0;34m\u001b[0m\u001b[0m\n\u001b[1;32m      9\u001b[0m     \u001b[0mhabitat_shapes\u001b[0m \u001b[0;34m=\u001b[0m \u001b[0mshapes\u001b[0m\u001b[0;34m(\u001b[0m\u001b[0mraster_arr_int\u001b[0m\u001b[0;34m,\u001b[0m \u001b[0mmask\u001b[0m\u001b[0;34m=\u001b[0m\u001b[0mmask\u001b[0m\u001b[0;34m,\u001b[0m \u001b[0mtransform\u001b[0m\u001b[0;34m=\u001b[0m\u001b[0msrc\u001b[0m\u001b[0;34m.\u001b[0m\u001b[0mtransform\u001b[0m\u001b[0;34m)\u001b[0m\u001b[0;34m\u001b[0m\u001b[0;34m\u001b[0m\u001b[0m\n\u001b[0;32m---> 10\u001b[0;31m     \u001b[0mhabitat_polygon_geo_list\u001b[0m \u001b[0;34m=\u001b[0m \u001b[0;34m[\u001b[0m\u001b[0mPolygon\u001b[0m\u001b[0;34m(\u001b[0m\u001b[0mgeo\u001b[0m\u001b[0;34m[\u001b[0m\u001b[0;36m0\u001b[0m\u001b[0;34m]\u001b[0m\u001b[0;34m[\u001b[0m\u001b[0;34m'coordinates'\u001b[0m\u001b[0;34m]\u001b[0m\u001b[0;34m[\u001b[0m\u001b[0;36m0\u001b[0m\u001b[0;34m]\u001b[0m\u001b[0;34m)\u001b[0m \u001b[0;32mfor\u001b[0m \u001b[0mgeo\u001b[0m \u001b[0;32min\u001b[0m \u001b[0mhabitat_shapes\u001b[0m\u001b[0;34m]\u001b[0m\u001b[0;34m\u001b[0m\u001b[0;34m\u001b[0m\u001b[0m\n\u001b[0m\u001b[1;32m     11\u001b[0m     \u001b[0mhabitat_arr\u001b[0m \u001b[0;34m=\u001b[0m \u001b[0mnp\u001b[0m\u001b[0;34m.\u001b[0m\u001b[0mones\u001b[0m\u001b[0;34m(\u001b[0m\u001b[0mlen\u001b[0m\u001b[0;34m(\u001b[0m\u001b[0mhabitat_polygon_geo_list\u001b[0m\u001b[0;34m)\u001b[0m\u001b[0;34m)\u001b[0m\u001b[0;34m*\u001b[0m\u001b[0mhabitat_number\u001b[0m\u001b[0;34m\u001b[0m\u001b[0;34m\u001b[0m\u001b[0m\n\u001b[1;32m     12\u001b[0m     habitat_gpd = gpd.GeoDataFrame(pd.DataFrame(data=habitat_arr, columns=['habitat_number'])\n",
                        "\u001b[0;32m/opt/conda/lib/python3.9/site-packages/shapely/geometry/polygon.py\u001b[0m in \u001b[0;36m__init__\u001b[0;34m(self, shell, holes)\u001b[0m\n\u001b[1;32m    241\u001b[0m \u001b[0;34m\u001b[0m\u001b[0m\n\u001b[1;32m    242\u001b[0m         \u001b[0;32mif\u001b[0m \u001b[0mshell\u001b[0m \u001b[0;32mis\u001b[0m \u001b[0;32mnot\u001b[0m \u001b[0;32mNone\u001b[0m\u001b[0;34m:\u001b[0m\u001b[0;34m\u001b[0m\u001b[0;34m\u001b[0m\u001b[0m\n\u001b[0;32m--> 243\u001b[0;31m             \u001b[0mret\u001b[0m \u001b[0;34m=\u001b[0m \u001b[0mgeos_polygon_from_py\u001b[0m\u001b[0;34m(\u001b[0m\u001b[0mshell\u001b[0m\u001b[0;34m,\u001b[0m \u001b[0mholes\u001b[0m\u001b[0;34m)\u001b[0m\u001b[0;34m\u001b[0m\u001b[0;34m\u001b[0m\u001b[0m\n\u001b[0m\u001b[1;32m    244\u001b[0m             \u001b[0;32mif\u001b[0m \u001b[0mret\u001b[0m \u001b[0;32mis\u001b[0m \u001b[0;32mnot\u001b[0m \u001b[0;32mNone\u001b[0m\u001b[0;34m:\u001b[0m\u001b[0;34m\u001b[0m\u001b[0;34m\u001b[0m\u001b[0m\n\u001b[1;32m    245\u001b[0m                 \u001b[0mself\u001b[0m\u001b[0;34m.\u001b[0m\u001b[0m_geom\u001b[0m\u001b[0;34m,\u001b[0m \u001b[0mself\u001b[0m\u001b[0;34m.\u001b[0m\u001b[0m_ndim\u001b[0m \u001b[0;34m=\u001b[0m \u001b[0mret\u001b[0m\u001b[0;34m\u001b[0m\u001b[0;34m\u001b[0m\u001b[0m\n",
                        "\u001b[0;32m/opt/conda/lib/python3.9/site-packages/shapely/geometry/polygon.py\u001b[0m in \u001b[0;36mgeos_polygon_from_py\u001b[0;34m(shell, holes)\u001b[0m\n\u001b[1;32m    537\u001b[0m \u001b[0;34m\u001b[0m\u001b[0m\n\u001b[1;32m    538\u001b[0m         return (\n\u001b[0;32m--> 539\u001b[0;31m             lgeos.GEOSGeom_createPolygon(\n\u001b[0m\u001b[1;32m    540\u001b[0m                 c_void_p(geos_shell), geos_holes, L), ndim)\n",
                        "\u001b[0;31mKeyboardInterrupt\u001b[0m: "
                    ]
                }
            ],
            "source": [
                "#loop through habitat numbers\n",
                "# we know there are 77\n",
                "#based on docs --https://rasterio.readthedocs.io/en/latest/topics/features.html\n",
                "\n",
                "for habitat_number in range(1,78):\n",
                "    print(f\"working on habitat_number {habitat_number}\")\n",
                "    mask = raster_arr == habitat_number\n",
                "\n",
                "    habitat_shapes = shapes(raster_arr_int, mask=mask, transform=src.transform)\n",
                "    habitat_polygon_geo_list = [Polygon(geo[0]['coordinates'][0]) for geo in habitat_shapes]\n",
                "    habitat_arr = np.ones(len(habitat_polygon_geo_list))*habitat_number\n",
                "    habitat_gpd = gpd.GeoDataFrame(pd.DataFrame(data=habitat_arr, columns=['habitat_number'])\n",
                "                                    ,crs=4326\n",
                "                                    ,geometry=habitat_polygon_geo_list)\n",
                "    habitat_gpd.to_file(\"processed_data/statewidehabitat.gpkg\",driver='GPKG',layer=f'habitat_{habitat_number}')"
            ]
        },
        {
            "cell_type": "markdown",
            "metadata": {},
            "source": [
                "## can we parallelize the above?"
            ]
        },
        {
            "cell_type": "code",
            "execution_count": null,
            "metadata": {},
            "outputs": [],
            "source": []
        }
    ],
    "metadata": {
        "interpreter": {
            "hash": "949777d72b0d2535278d3dc13498b2535136f6dfe0678499012e853ee9abcab1"
        },
        "kernelspec": {
            "display_name": "Python 3.9.7 64-bit",
            "name": "python3"
        },
        "language_info": {
            "codemirror_mode": {
                "name": "ipython",
                "version": 3
            },
            "file_extension": ".py",
            "mimetype": "text/x-python",
            "name": "python",
            "nbconvert_exporter": "python",
            "pygments_lexer": "ipython3",
            "version": "3.9.4"
        },
        "orig_nbformat": 4
    },
    "nbformat": 4,
    "nbformat_minor": 2
}
